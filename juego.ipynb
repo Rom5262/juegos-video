{
 "cells": [
  {
   "cell_type": "code",
   "execution_count": 2,
   "id": "16bd9652",
   "metadata": {},
   "outputs": [],
   "source": [
    "import pandas as pd\n",
    "import seaborn as sns\n",
    "import numpy as np\n",
    "from matplotlib import pyplot as plt\n",
    "from math import factorial\n",
    "from scipy import stats as st"
   ]
  },
  {
   "cell_type": "code",
   "execution_count": 3,
   "id": "4d94eabb",
   "metadata": {},
   "outputs": [],
   "source": [
    "df = pd.read_csv('games.csv') "
   ]
  },
  {
   "cell_type": "code",
   "execution_count": 4,
   "id": "7c2a1f00",
   "metadata": {},
   "outputs": [
    {
     "name": "stdout",
     "output_type": "stream",
     "text": [
      "<class 'pandas.core.frame.DataFrame'>\n",
      "RangeIndex: 16715 entries, 0 to 16714\n",
      "Data columns (total 11 columns):\n",
      " #   Column           Non-Null Count  Dtype  \n",
      "---  ------           --------------  -----  \n",
      " 0   Name             16713 non-null  object \n",
      " 1   Platform         16715 non-null  object \n",
      " 2   Year_of_Release  16446 non-null  float64\n",
      " 3   Genre            16713 non-null  object \n",
      " 4   NA_sales         16715 non-null  float64\n",
      " 5   EU_sales         16715 non-null  float64\n",
      " 6   JP_sales         16715 non-null  float64\n",
      " 7   Other_sales      16715 non-null  float64\n",
      " 8   Critic_Score     8137 non-null   float64\n",
      " 9   User_Score       10014 non-null  object \n",
      " 10  Rating           9949 non-null   object \n",
      "dtypes: float64(6), object(5)\n",
      "memory usage: 1.4+ MB\n"
     ]
    }
   ],
   "source": [
    "df.info()"
   ]
  },
  {
   "cell_type": "markdown",
   "id": "9a5223ce",
   "metadata": {},
   "source": [
    "Se realiza un reemplazo a los nombres de las columnas, se colocaran ern minusculas, esto ayudará a trabajr mejor con ellos."
   ]
  },
  {
   "cell_type": "code",
   "execution_count": 6,
   "id": "67cdc597",
   "metadata": {},
   "outputs": [
    {
     "data": {
      "text/html": [
       "<div>\n",
       "<style scoped>\n",
       "    .dataframe tbody tr th:only-of-type {\n",
       "        vertical-align: middle;\n",
       "    }\n",
       "\n",
       "    .dataframe tbody tr th {\n",
       "        vertical-align: top;\n",
       "    }\n",
       "\n",
       "    .dataframe thead th {\n",
       "        text-align: right;\n",
       "    }\n",
       "</style>\n",
       "<table border=\"1\" class=\"dataframe\">\n",
       "  <thead>\n",
       "    <tr style=\"text-align: right;\">\n",
       "      <th></th>\n",
       "      <th>name</th>\n",
       "      <th>platform</th>\n",
       "      <th>year_of_release</th>\n",
       "      <th>genre</th>\n",
       "      <th>na_sales</th>\n",
       "      <th>eu_sales</th>\n",
       "      <th>jp_sales</th>\n",
       "      <th>other_sales</th>\n",
       "      <th>critic_score</th>\n",
       "      <th>user_score</th>\n",
       "      <th>rating</th>\n",
       "    </tr>\n",
       "  </thead>\n",
       "  <tbody>\n",
       "    <tr>\n",
       "      <th>0</th>\n",
       "      <td>Wii Sports</td>\n",
       "      <td>Wii</td>\n",
       "      <td>2006.0</td>\n",
       "      <td>Sports</td>\n",
       "      <td>41.36</td>\n",
       "      <td>28.96</td>\n",
       "      <td>3.77</td>\n",
       "      <td>8.45</td>\n",
       "      <td>76.0</td>\n",
       "      <td>8</td>\n",
       "      <td>E</td>\n",
       "    </tr>\n",
       "    <tr>\n",
       "      <th>1</th>\n",
       "      <td>Super Mario Bros.</td>\n",
       "      <td>NES</td>\n",
       "      <td>1985.0</td>\n",
       "      <td>Platform</td>\n",
       "      <td>29.08</td>\n",
       "      <td>3.58</td>\n",
       "      <td>6.81</td>\n",
       "      <td>0.77</td>\n",
       "      <td>NaN</td>\n",
       "      <td>NaN</td>\n",
       "      <td>NaN</td>\n",
       "    </tr>\n",
       "    <tr>\n",
       "      <th>2</th>\n",
       "      <td>Mario Kart Wii</td>\n",
       "      <td>Wii</td>\n",
       "      <td>2008.0</td>\n",
       "      <td>Racing</td>\n",
       "      <td>15.68</td>\n",
       "      <td>12.76</td>\n",
       "      <td>3.79</td>\n",
       "      <td>3.29</td>\n",
       "      <td>82.0</td>\n",
       "      <td>8.3</td>\n",
       "      <td>E</td>\n",
       "    </tr>\n",
       "    <tr>\n",
       "      <th>3</th>\n",
       "      <td>Wii Sports Resort</td>\n",
       "      <td>Wii</td>\n",
       "      <td>2009.0</td>\n",
       "      <td>Sports</td>\n",
       "      <td>15.61</td>\n",
       "      <td>10.93</td>\n",
       "      <td>3.28</td>\n",
       "      <td>2.95</td>\n",
       "      <td>80.0</td>\n",
       "      <td>8</td>\n",
       "      <td>E</td>\n",
       "    </tr>\n",
       "    <tr>\n",
       "      <th>4</th>\n",
       "      <td>Pokemon Red/Pokemon Blue</td>\n",
       "      <td>GB</td>\n",
       "      <td>1996.0</td>\n",
       "      <td>Role-Playing</td>\n",
       "      <td>11.27</td>\n",
       "      <td>8.89</td>\n",
       "      <td>10.22</td>\n",
       "      <td>1.00</td>\n",
       "      <td>NaN</td>\n",
       "      <td>NaN</td>\n",
       "      <td>NaN</td>\n",
       "    </tr>\n",
       "  </tbody>\n",
       "</table>\n",
       "</div>"
      ],
      "text/plain": [
       "                       name platform  year_of_release         genre  na_sales  \\\n",
       "0                Wii Sports      Wii           2006.0        Sports     41.36   \n",
       "1         Super Mario Bros.      NES           1985.0      Platform     29.08   \n",
       "2            Mario Kart Wii      Wii           2008.0        Racing     15.68   \n",
       "3         Wii Sports Resort      Wii           2009.0        Sports     15.61   \n",
       "4  Pokemon Red/Pokemon Blue       GB           1996.0  Role-Playing     11.27   \n",
       "\n",
       "   eu_sales  jp_sales  other_sales  critic_score user_score rating  \n",
       "0     28.96      3.77         8.45          76.0          8      E  \n",
       "1      3.58      6.81         0.77           NaN        NaN    NaN  \n",
       "2     12.76      3.79         3.29          82.0        8.3      E  \n",
       "3     10.93      3.28         2.95          80.0          8      E  \n",
       "4      8.89     10.22         1.00           NaN        NaN    NaN  "
      ]
     },
     "execution_count": 6,
     "metadata": {},
     "output_type": "execute_result"
    }
   ],
   "source": [
    "df.columns = [col.lower() for col in df.columns]\n",
    "\n",
    "df.head()"
   ]
  },
  {
   "cell_type": "code",
   "execution_count": 7,
   "id": "199dd25b",
   "metadata": {},
   "outputs": [
    {
     "data": {
      "text/plain": [
       "Index(['name', 'platform', 'year_of_release', 'genre', 'na_sales', 'eu_sales',\n",
       "       'jp_sales', 'other_sales', 'critic_score', 'user_score', 'rating'],\n",
       "      dtype='object')"
      ]
     },
     "execution_count": 7,
     "metadata": {},
     "output_type": "execute_result"
    }
   ],
   "source": [
    "df.columns"
   ]
  },
  {
   "cell_type": "markdown",
   "id": "c4c06097",
   "metadata": {},
   "source": [
    "Se va a realizar una inspección a la base de datos, para ver si hay datos faltantes."
   ]
  },
  {
   "cell_type": "code",
   "execution_count": 7,
   "id": "71f5192e",
   "metadata": {},
   "outputs": [
    {
     "name": "stdout",
     "output_type": "stream",
     "text": [
      "name                  2\n",
      "platform              0\n",
      "year_of_release     269\n",
      "genre                 2\n",
      "na_sales              0\n",
      "eu_sales              0\n",
      "jp_sales              0\n",
      "other_sales           0\n",
      "critic_score       8578\n",
      "user_score         6701\n",
      "rating             6766\n",
      "dtype: int64\n"
     ]
    }
   ],
   "source": [
    "print(df.isnull().sum())"
   ]
  },
  {
   "cell_type": "markdown",
   "id": "7702eafb",
   "metadata": {},
   "source": [
    "Se encuentran demasiados datos faltantes en algunas columnas, esto pudiera ser por que al momento de tomar la información no se capturo correctamente, se omitió en el momento de su recopilación, no se solicitó al departamento encargado, se perdió."
   ]
  },
  {
   "cell_type": "markdown",
   "id": "db130b33",
   "metadata": {},
   "source": [
    "Se realizará una inspección para ver si existen datos duplicados."
   ]
  },
  {
   "cell_type": "code",
   "execution_count": 8,
   "id": "fa0039cd",
   "metadata": {},
   "outputs": [
    {
     "data": {
      "text/plain": [
       "np.int64(0)"
      ]
     },
     "execution_count": 8,
     "metadata": {},
     "output_type": "execute_result"
    }
   ],
   "source": [
    "df.duplicated().sum()"
   ]
  },
  {
   "cell_type": "markdown",
   "id": "3155852c",
   "metadata": {},
   "source": [
    "Se colocará '-1' en los datos faltantes de las columnas \"critic_score\" y \"user_score \", esto ayudará a evitar resultados erroneos en el analisis de promedios y estadisticos."
   ]
  },
  {
   "cell_type": "code",
   "execution_count": 9,
   "id": "96e10066",
   "metadata": {},
   "outputs": [
    {
     "name": "stdout",
     "output_type": "stream",
     "text": [
      "                       name platform  year_of_release         genre  na_sales  \\\n",
      "0                Wii Sports      Wii           2006.0        Sports     41.36   \n",
      "1         Super Mario Bros.      NES           1985.0      Platform     29.08   \n",
      "2            Mario Kart Wii      Wii           2008.0        Racing     15.68   \n",
      "3         Wii Sports Resort      Wii           2009.0        Sports     15.61   \n",
      "4  Pokemon Red/Pokemon Blue       GB           1996.0  Role-Playing     11.27   \n",
      "\n",
      "   eu_sales  jp_sales  other_sales  critic_score user_score rating  \n",
      "0     28.96      3.77         8.45          76.0          8      E  \n",
      "1      3.58      6.81         0.77          -1.0         -1    NaN  \n",
      "2     12.76      3.79         3.29          82.0        8.3      E  \n",
      "3     10.93      3.28         2.95          80.0          8      E  \n",
      "4      8.89     10.22         1.00          -1.0         -1    NaN  \n"
     ]
    }
   ],
   "source": [
    "df.loc[:, ['critic_score', 'user_score']] = df[['critic_score', 'user_score']].fillna(-1)\n",
    "print(df.head())"
   ]
  },
  {
   "cell_type": "markdown",
   "id": "12758b2e",
   "metadata": {},
   "source": [
    "Se colocará \"sin clasificación\" a los datos faltantes de la columna 'rating' para que no afecte en el momento de realizar analisis diversos como promedios o gráficos"
   ]
  },
  {
   "cell_type": "code",
   "execution_count": 10,
   "id": "e9e155c9",
   "metadata": {},
   "outputs": [
    {
     "data": {
      "text/html": [
       "<div>\n",
       "<style scoped>\n",
       "    .dataframe tbody tr th:only-of-type {\n",
       "        vertical-align: middle;\n",
       "    }\n",
       "\n",
       "    .dataframe tbody tr th {\n",
       "        vertical-align: top;\n",
       "    }\n",
       "\n",
       "    .dataframe thead th {\n",
       "        text-align: right;\n",
       "    }\n",
       "</style>\n",
       "<table border=\"1\" class=\"dataframe\">\n",
       "  <thead>\n",
       "    <tr style=\"text-align: right;\">\n",
       "      <th></th>\n",
       "      <th>name</th>\n",
       "      <th>platform</th>\n",
       "      <th>year_of_release</th>\n",
       "      <th>genre</th>\n",
       "      <th>na_sales</th>\n",
       "      <th>eu_sales</th>\n",
       "      <th>jp_sales</th>\n",
       "      <th>other_sales</th>\n",
       "      <th>critic_score</th>\n",
       "      <th>user_score</th>\n",
       "      <th>rating</th>\n",
       "    </tr>\n",
       "  </thead>\n",
       "  <tbody>\n",
       "    <tr>\n",
       "      <th>0</th>\n",
       "      <td>Wii Sports</td>\n",
       "      <td>Wii</td>\n",
       "      <td>2006.0</td>\n",
       "      <td>Sports</td>\n",
       "      <td>41.36</td>\n",
       "      <td>28.96</td>\n",
       "      <td>3.77</td>\n",
       "      <td>8.45</td>\n",
       "      <td>76.0</td>\n",
       "      <td>8</td>\n",
       "      <td>E</td>\n",
       "    </tr>\n",
       "    <tr>\n",
       "      <th>1</th>\n",
       "      <td>Super Mario Bros.</td>\n",
       "      <td>NES</td>\n",
       "      <td>1985.0</td>\n",
       "      <td>Platform</td>\n",
       "      <td>29.08</td>\n",
       "      <td>3.58</td>\n",
       "      <td>6.81</td>\n",
       "      <td>0.77</td>\n",
       "      <td>-1.0</td>\n",
       "      <td>-1</td>\n",
       "      <td>sin clasificación</td>\n",
       "    </tr>\n",
       "    <tr>\n",
       "      <th>2</th>\n",
       "      <td>Mario Kart Wii</td>\n",
       "      <td>Wii</td>\n",
       "      <td>2008.0</td>\n",
       "      <td>Racing</td>\n",
       "      <td>15.68</td>\n",
       "      <td>12.76</td>\n",
       "      <td>3.79</td>\n",
       "      <td>3.29</td>\n",
       "      <td>82.0</td>\n",
       "      <td>8.3</td>\n",
       "      <td>E</td>\n",
       "    </tr>\n",
       "    <tr>\n",
       "      <th>3</th>\n",
       "      <td>Wii Sports Resort</td>\n",
       "      <td>Wii</td>\n",
       "      <td>2009.0</td>\n",
       "      <td>Sports</td>\n",
       "      <td>15.61</td>\n",
       "      <td>10.93</td>\n",
       "      <td>3.28</td>\n",
       "      <td>2.95</td>\n",
       "      <td>80.0</td>\n",
       "      <td>8</td>\n",
       "      <td>E</td>\n",
       "    </tr>\n",
       "    <tr>\n",
       "      <th>4</th>\n",
       "      <td>Pokemon Red/Pokemon Blue</td>\n",
       "      <td>GB</td>\n",
       "      <td>1996.0</td>\n",
       "      <td>Role-Playing</td>\n",
       "      <td>11.27</td>\n",
       "      <td>8.89</td>\n",
       "      <td>10.22</td>\n",
       "      <td>1.00</td>\n",
       "      <td>-1.0</td>\n",
       "      <td>-1</td>\n",
       "      <td>sin clasificación</td>\n",
       "    </tr>\n",
       "  </tbody>\n",
       "</table>\n",
       "</div>"
      ],
      "text/plain": [
       "                       name platform  year_of_release         genre  na_sales  \\\n",
       "0                Wii Sports      Wii           2006.0        Sports     41.36   \n",
       "1         Super Mario Bros.      NES           1985.0      Platform     29.08   \n",
       "2            Mario Kart Wii      Wii           2008.0        Racing     15.68   \n",
       "3         Wii Sports Resort      Wii           2009.0        Sports     15.61   \n",
       "4  Pokemon Red/Pokemon Blue       GB           1996.0  Role-Playing     11.27   \n",
       "\n",
       "   eu_sales  jp_sales  other_sales  critic_score user_score             rating  \n",
       "0     28.96      3.77         8.45          76.0          8                  E  \n",
       "1      3.58      6.81         0.77          -1.0         -1  sin clasificación  \n",
       "2     12.76      3.79         3.29          82.0        8.3                  E  \n",
       "3     10.93      3.28         2.95          80.0          8                  E  \n",
       "4      8.89     10.22         1.00          -1.0         -1  sin clasificación  "
      ]
     },
     "execution_count": 10,
     "metadata": {},
     "output_type": "execute_result"
    }
   ],
   "source": [
    "df['rating'] = df['rating'].fillna('sin clasificación')\n",
    "\n",
    "df.head()"
   ]
  },
  {
   "cell_type": "markdown",
   "id": "e2730cd4",
   "metadata": {},
   "source": [
    "Se convertirá a enteros la columna 'year_of_release' para una mejor presentación"
   ]
  },
  {
   "cell_type": "code",
   "execution_count": 11,
   "id": "a67ff05a",
   "metadata": {},
   "outputs": [
    {
     "name": "stdout",
     "output_type": "stream",
     "text": [
      "                       name platform  year_of_release         genre  na_sales  \\\n",
      "0                Wii Sports      Wii             2006        Sports     41.36   \n",
      "1         Super Mario Bros.      NES             1985      Platform     29.08   \n",
      "2            Mario Kart Wii      Wii             2008        Racing     15.68   \n",
      "3         Wii Sports Resort      Wii             2009        Sports     15.61   \n",
      "4  Pokemon Red/Pokemon Blue       GB             1996  Role-Playing     11.27   \n",
      "\n",
      "   eu_sales  jp_sales  other_sales  critic_score user_score             rating  \n",
      "0     28.96      3.77         8.45          76.0          8                  E  \n",
      "1      3.58      6.81         0.77          -1.0         -1  sin clasificación  \n",
      "2     12.76      3.79         3.29          82.0        8.3                  E  \n",
      "3     10.93      3.28         2.95          80.0          8                  E  \n",
      "4      8.89     10.22         1.00          -1.0         -1  sin clasificación  \n"
     ]
    }
   ],
   "source": [
    "df['year_of_release'] = df['year_of_release'].fillna(0).astype(int)\n",
    "print(df.head())"
   ]
  },
  {
   "cell_type": "markdown",
   "id": "efa2cef4",
   "metadata": {},
   "source": [
    "Se detecta dentro de la columna 'user_score' una abreviatura \"TBD\" esta se mantendrá así, no se le realizará nada."
   ]
  },
  {
   "cell_type": "markdown",
   "id": "a39387d6",
   "metadata": {},
   "source": [
    "Se realizará el cálculo de las ventas totales en todas las regiones para cada juego y estos valores se colocarán en una nueva columna que se va a llamar 'total_sales' para el posterior trabajo que se realizará con estos datos."
   ]
  },
  {
   "cell_type": "code",
   "execution_count": 13,
   "id": "f3174700",
   "metadata": {},
   "outputs": [
    {
     "name": "stdout",
     "output_type": "stream",
     "text": [
      "0    82.54\n",
      "1    40.24\n",
      "2    35.52\n",
      "3    32.77\n",
      "4    31.38\n",
      "Name: total_sales, dtype: float64\n"
     ]
    }
   ],
   "source": [
    "df['total_sales']= df['na_sales'] + df['eu_sales'] + df['jp_sales'] + df['other_sales']\n",
    "total_sales = df['total_sales']\n",
    "print(total_sales.head())"
   ]
  },
  {
   "cell_type": "markdown",
   "id": "7624041a",
   "metadata": {},
   "source": [
    "Se realizará un deglose de los juegos por año de lanzamiento y se iniciará por el año en que más juegos fueron lanzados al mercado."
   ]
  },
  {
   "cell_type": "code",
   "execution_count": 14,
   "id": "253fb969",
   "metadata": {},
   "outputs": [
    {
     "name": "stdout",
     "output_type": "stream",
     "text": [
      "year_of_release\n",
      "2008.0    1427\n",
      "2009.0    1426\n",
      "2010.0    1255\n",
      "2007.0    1197\n",
      "2011.0    1136\n",
      "2006.0    1006\n",
      "2005.0     939\n",
      "2002.0     829\n",
      "2003.0     775\n",
      "2004.0     762\n",
      "2012.0     653\n",
      "2015.0     606\n",
      "2014.0     581\n",
      "2013.0     544\n",
      "2016.0     502\n",
      "2001.0     482\n",
      "1998.0     379\n",
      "2000.0     350\n",
      "1999.0     338\n",
      "1997.0     289\n",
      "1996.0     263\n",
      "1995.0     219\n",
      "1994.0     121\n",
      "1993.0      62\n",
      "1981.0      46\n",
      "1992.0      43\n",
      "1991.0      41\n",
      "1982.0      36\n",
      "1986.0      21\n",
      "1989.0      17\n",
      "1983.0      17\n",
      "1987.0      16\n",
      "1990.0      16\n",
      "1988.0      15\n",
      "1985.0      14\n",
      "1984.0      14\n",
      "1980.0       9\n",
      "Name: count, dtype: int64\n"
     ]
    }
   ],
   "source": [
    "df_year_of_release = df['year_of_release'].value_counts().sort_values(ascending=False)\n",
    "\n",
    "print(df_year_of_release)"
   ]
  },
  {
   "cell_type": "markdown",
   "id": "381a3e86",
   "metadata": {},
   "source": [
    "Se va a realizar un desglose para ver que plataforma ha tenido más ventas"
   ]
  },
  {
   "cell_type": "code",
   "execution_count": 15,
   "id": "7dc3f9b7",
   "metadata": {},
   "outputs": [
    {
     "data": {
      "text/html": [
       "<div>\n",
       "<style scoped>\n",
       "    .dataframe tbody tr th:only-of-type {\n",
       "        vertical-align: middle;\n",
       "    }\n",
       "\n",
       "    .dataframe tbody tr th {\n",
       "        vertical-align: top;\n",
       "    }\n",
       "\n",
       "    .dataframe thead th {\n",
       "        text-align: right;\n",
       "    }\n",
       "</style>\n",
       "<table border=\"1\" class=\"dataframe\">\n",
       "  <thead>\n",
       "    <tr style=\"text-align: right;\">\n",
       "      <th></th>\n",
       "      <th>platform</th>\n",
       "      <th>total_sales</th>\n",
       "    </tr>\n",
       "  </thead>\n",
       "  <tbody>\n",
       "    <tr>\n",
       "      <th>16</th>\n",
       "      <td>PS2</td>\n",
       "      <td>1255.77</td>\n",
       "    </tr>\n",
       "    <tr>\n",
       "      <th>28</th>\n",
       "      <td>X360</td>\n",
       "      <td>971.42</td>\n",
       "    </tr>\n",
       "    <tr>\n",
       "      <th>17</th>\n",
       "      <td>PS3</td>\n",
       "      <td>939.65</td>\n",
       "    </tr>\n",
       "    <tr>\n",
       "      <th>26</th>\n",
       "      <td>Wii</td>\n",
       "      <td>907.51</td>\n",
       "    </tr>\n",
       "    <tr>\n",
       "      <th>4</th>\n",
       "      <td>DS</td>\n",
       "      <td>806.12</td>\n",
       "    </tr>\n",
       "    <tr>\n",
       "      <th>15</th>\n",
       "      <td>PS</td>\n",
       "      <td>730.86</td>\n",
       "    </tr>\n",
       "    <tr>\n",
       "      <th>6</th>\n",
       "      <td>GBA</td>\n",
       "      <td>317.85</td>\n",
       "    </tr>\n",
       "    <tr>\n",
       "      <th>18</th>\n",
       "      <td>PS4</td>\n",
       "      <td>314.14</td>\n",
       "    </tr>\n",
       "    <tr>\n",
       "      <th>19</th>\n",
       "      <td>PSP</td>\n",
       "      <td>294.05</td>\n",
       "    </tr>\n",
       "    <tr>\n",
       "      <th>13</th>\n",
       "      <td>PC</td>\n",
       "      <td>259.52</td>\n",
       "    </tr>\n",
       "  </tbody>\n",
       "</table>\n",
       "</div>"
      ],
      "text/plain": [
       "   platform  total_sales\n",
       "16      PS2      1255.77\n",
       "28     X360       971.42\n",
       "17      PS3       939.65\n",
       "26      Wii       907.51\n",
       "4        DS       806.12\n",
       "15       PS       730.86\n",
       "6       GBA       317.85\n",
       "18      PS4       314.14\n",
       "19      PSP       294.05\n",
       "13       PC       259.52"
      ]
     },
     "execution_count": 15,
     "metadata": {},
     "output_type": "execute_result"
    }
   ],
   "source": [
    "total_sales_platform = df.groupby('platform')['total_sales'].sum().reset_index()\n",
    "total_sales_platform = total_sales_platform.sort_values(by='total_sales', ascending=False)\n",
    "top_10_platforms = total_sales_platform['platform'].head(10).tolist()\n",
    "\n",
    "total_sales_platform.head(10)"
   ]
  },
  {
   "cell_type": "markdown",
   "id": "0e3f6b2d",
   "metadata": {},
   "source": [
    "Se va a realizar un analisis para detectar la duración o actividad que resulta en ventas de las diferentes plataformas, de la más reciente a la más antigua"
   ]
  },
  {
   "cell_type": "code",
   "execution_count": 16,
   "id": "a420dacf",
   "metadata": {},
   "outputs": [
    {
     "name": "stdout",
     "output_type": "stream",
     "text": [
      "          inicio     fin  duración\n",
      "platform                          \n",
      "PS4       2013.0  2016.0       3.0\n",
      "XOne      2013.0  2016.0       3.0\n",
      "WiiU      2012.0  2016.0       4.0\n",
      "PSV       2011.0  2016.0       5.0\n",
      "3DS       2011.0  2016.0       5.0\n"
     ]
    }
   ],
   "source": [
    "df = df.dropna(subset=['platform', 'year_of_release'])\n",
    "\n",
    "platform_active = df.groupby('platform')['year_of_release'].agg(['min','max'])\n",
    "platform_active['year_activity'] = platform_active['max'] - platform_active['min']\n",
    "platform_active.columns = ['inicio', 'fin', 'duración']\n",
    "platform_durability = platform_active.sort_values(by='inicio', ascending=False)\n",
    "\n",
    "print(platform_durability.head())"
   ]
  },
  {
   "cell_type": "markdown",
   "id": "69554e2f",
   "metadata": {},
   "source": [
    "Se va a realizar un desglose para ver que plataforma ha tenido más ventas"
   ]
  },
  {
   "cell_type": "code",
   "execution_count": 17,
   "id": "62d77da1",
   "metadata": {},
   "outputs": [
    {
     "name": "stdout",
     "output_type": "stream",
     "text": [
      "   platform  total_sales\n",
      "16      PS2      1233.56\n",
      "28     X360       961.24\n",
      "17      PS3       931.34\n",
      "26      Wii       891.18\n",
      "4        DS       802.78\n",
      "15       PS       727.58\n",
      "18      PS4       314.14\n",
      "6       GBA       312.88\n",
      "19      PSP       289.53\n",
      "2       3DS       257.81\n"
     ]
    }
   ],
   "source": [
    "total_sales_platform = df.groupby('platform')['total_sales'].sum().reset_index()\n",
    "total_sales_platform = total_sales_platform.sort_values(by='total_sales', ascending=False)\n",
    "top_10_platforms = total_sales_platform['platform'].head(10).tolist()\n",
    "\n",
    "print(total_sales_platform.head(10))"
   ]
  },
  {
   "cell_type": "markdown",
   "id": "0cc17b10",
   "metadata": {},
   "source": [
    "Se va a realizar un analisis para detectar la duración o actividad que resulta en ventas de las diferentes plataformas, de la más reciente a la más antigua"
   ]
  },
  {
   "cell_type": "code",
   "execution_count": 18,
   "id": "c377b4a2",
   "metadata": {},
   "outputs": [
    {
     "name": "stdout",
     "output_type": "stream",
     "text": [
      "          year_start  year_end  year_activity\n",
      "platform                                     \n",
      "PS4           2013.0    2016.0            3.0\n",
      "XOne          2013.0    2016.0            3.0\n",
      "WiiU          2012.0    2016.0            4.0\n",
      "PSV           2011.0    2016.0            5.0\n",
      "3DS           2011.0    2016.0            5.0\n",
      "Wii           2006.0    2016.0           10.0\n",
      "PS3           2006.0    2016.0           10.0\n",
      "X360          2005.0    2016.0           11.0\n",
      "PSP           2004.0    2015.0           11.0\n",
      "GC            2001.0    2007.0            6.0\n",
      "GBA           2000.0    2007.0            7.0\n",
      "PS2           2000.0    2011.0           11.0\n",
      "XB            2000.0    2008.0            8.0\n",
      "WS            1999.0    2001.0            2.0\n",
      "DC            1998.0    2008.0           10.0\n",
      "N64           1996.0    2002.0            6.0\n",
      "PCFX          1996.0    1996.0            0.0\n",
      "TG16          1995.0    1995.0            0.0\n",
      "3DO           1994.0    1995.0            1.0\n",
      "PS            1994.0    2003.0            9.0\n",
      "SAT           1994.0    1999.0            5.0\n",
      "SCD           1993.0    1994.0            1.0\n",
      "NG            1993.0    1996.0            3.0\n",
      "GG            1992.0    1992.0            0.0\n",
      "GEN           1990.0    1994.0            4.0\n",
      "SNES          1990.0    1999.0            9.0\n",
      "GB            1988.0    2001.0           13.0\n",
      "DS            1985.0    2013.0           28.0\n",
      "PC            1985.0    2016.0           31.0\n",
      "NES           1983.0    1994.0           11.0\n",
      "2600          1980.0    1989.0            9.0\n"
     ]
    }
   ],
   "source": [
    "platform_active = df.groupby('platform')['year_of_release'].agg(year_start='min', year_end='max')\n",
    "platform_active['year_activity'] = platform_active['year_end'] - platform_active['year_start']\n",
    "platform_durability = platform_active.sort_values(by='year_start', ascending=False)\n",
    "print(platform_durability)\n"
   ]
  },
  {
   "cell_type": "markdown",
   "id": "48de3c65",
   "metadata": {},
   "source": [
    "Identificar plataformas que solían ser populares pero ahora tienen ventas nulas"
   ]
  },
  {
   "cell_type": "code",
   "execution_count": 19,
   "id": "ed10e573",
   "metadata": {},
   "outputs": [
    {
     "name": "stdout",
     "output_type": "stream",
     "text": [
      "   platform  total_sales\n",
      "16      PS2      1233.56\n",
      "4        DS       802.78\n",
      "15       PS       727.58\n",
      "6       GBA       312.88\n",
      "19      PSP       289.53\n",
      "5        GB       254.43\n",
      "29       XB       251.57\n",
      "11      NES       251.05\n",
      "10      N64       218.01\n",
      "23     SNES       200.04\n",
      "7        GC       196.73\n",
      "0      2600        86.48\n",
      "21      SAT        33.59\n",
      "8       GEN        30.77\n",
      "3        DC        15.95\n",
      "22      SCD         1.86\n",
      "12       NG         1.44\n",
      "25       WS         1.42\n",
      "24     TG16         0.16\n",
      "1       3DO         0.10\n",
      "9        GG         0.04\n",
      "14     PCFX         0.03\n"
     ]
    }
   ],
   "source": [
    "active_platforms = df[df['year_of_release'] >= 2016]['platform'].unique()  \n",
    "inactive_platforms = total_sales_platform[~total_sales_platform['platform'].isin(active_platforms)]\n",
    "\n",
    "print(inactive_platforms)  "
   ]
  },
  {
   "cell_type": "markdown",
   "id": "5734395b",
   "metadata": {},
   "source": [
    "Se va a realizar un desglose para conocer las plataformas con mas juegos"
   ]
  },
  {
   "cell_type": "code",
   "execution_count": 20,
   "id": "e47d28f0",
   "metadata": {},
   "outputs": [
    {
     "data": {
      "text/plain": [
       "platform\n",
       "PS2     2127\n",
       "DS      2121\n",
       "PS3     1306\n",
       "Wii     1286\n",
       "X360    1232\n",
       "Name: count, dtype: int64"
      ]
     },
     "execution_count": 20,
     "metadata": {},
     "output_type": "execute_result"
    }
   ],
   "source": [
    "df_platform = df['platform'].value_counts().sort_values(ascending=False)\n",
    "\n",
    "df_platform.head()"
   ]
  },
  {
   "cell_type": "markdown",
   "id": "1dace49c",
   "metadata": {},
   "source": [
    "Se hará un estudio de las 10 plataformas con mayor venta actualmente"
   ]
  },
  {
   "cell_type": "code",
   "execution_count": 21,
   "id": "c4eb7d5b",
   "metadata": {},
   "outputs": [
    {
     "data": {
      "text/plain": [
       "platform\n",
       "3DS     257.81\n",
       "DS      802.78\n",
       "GBA     312.88\n",
       "PS      727.58\n",
       "PS2    1233.56\n",
       "Name: total_sales, dtype: float64"
      ]
     },
     "execution_count": 21,
     "metadata": {},
     "output_type": "execute_result"
    }
   ],
   "source": [
    "top_platforms = total_sales_platform.head(10)['platform'].tolist()\n",
    "df_top = df[df['platform'].isin(top_platforms)]\n",
    "sales_by_platform = df_top.groupby('platform')['total_sales'].sum()\n",
    "sales_by_platform.head()"
   ]
  },
  {
   "cell_type": "markdown",
   "id": "1031f054",
   "metadata": {},
   "source": []
  }
 ],
 "metadata": {
  "kernelspec": {
   "display_name": "Python 3",
   "language": "python",
   "name": "python3"
  },
  "language_info": {
   "codemirror_mode": {
    "name": "ipython",
    "version": 3
   },
   "file_extension": ".py",
   "mimetype": "text/x-python",
   "name": "python",
   "nbconvert_exporter": "python",
   "pygments_lexer": "ipython3",
   "version": "3.13.3"
  }
 },
 "nbformat": 4,
 "nbformat_minor": 5
}
